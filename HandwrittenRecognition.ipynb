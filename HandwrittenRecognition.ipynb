{
 "cells": [
  {
   "cell_type": "code",
   "execution_count": 6,
   "metadata": {},
   "outputs": [],
   "source": [
    "#import the librairies\n",
    "\n",
    "import keras\n",
    "from keras.datasets import mnist\n",
    "from keras.models import Sequential\n",
    "from keras.layers import Dense\n",
    "from keras.layers import Dropout\n",
    "from keras.layers import Flatten\n",
    "from keras.layers.convolutional import Convolution2D\n",
    "from keras.layers.convolutional import MaxPooling2D\n",
    "from keras.utils import to_categorical\n",
    "from keras import backend as k\n",
    "import numpy as np\n",
    "import pandas as pd"
   ]
  },
  {
   "cell_type": "code",
   "execution_count": 7,
   "metadata": {},
   "outputs": [],
   "source": [
    "# load mnist data from keras directly\n",
    "\n",
    "(X_train, Y_train) , (X_test, Y_test) = mnist.load_data()"
   ]
  },
  {
   "cell_type": "code",
   "execution_count": 8,
   "metadata": {},
   "outputs": [
    {
     "data": {
      "image/png": "[encoded data removed]",
      "text/plain": [
       "<Figure size 432x288 with 6 Axes>"
      ]
     },
     "metadata": {
      "needs_background": "light"
     },
     "output_type": "display_data"
    }
   ],
   "source": [
    "# visualise some mnist digits data\n",
    "\n",
    "import matplotlib.pyplot as plt\n",
    "\n",
    "for i in range(6):\n",
    "    plt.subplot(int('23'+str(i+1)))\n",
    "    plt.imshow(X_train[i],cmap=plt.get_cmap('hot'))"
   ]
  },
  {
   "cell_type": "markdown",
   "metadata": {},
   "source": [
    "# Data Preprocess and Normalize"
   ]
  },
  {
   "cell_type": "markdown",
   "metadata": {},
   "source": [
    "We know that all images (dataset) are represented as a 28×28 matrix containing grayscale pixel values. According to this, the dimension of the training data is (60000,28,28) but the CNN model will require one more dimension so we need to process the data by reshape the matrix to shape (60000,28,28,1)."
   ]
  },
  {
   "cell_type": "code",
   "execution_count": 9,
   "metadata": {},
   "outputs": [],
   "source": [
    "#reshape format [Samples][width][height][channels]\n",
    "\n",
    "X_train = X_train.reshape(X_train.shape[0], 28, 28, 1).astype('float')\n",
    "X_test = X_test.reshape(X_test.shape[0], 28, 28, 1).astype('float')\n",
    "\n",
    "# Converts a class vectors (integers) to binary class matrix\n",
    "\n",
    "Y_train = to_categorical(Y_train)\n",
    "Y_test = to_categorical(Y_test)"
   ]
  },
  {
   "cell_type": "markdown",
   "metadata": {},
   "source": [
    "when using neural network models, It is good to perform some scaling of input values to normalize the pixel values to the range 0 and 1 by dividing each value by the maximum value (Note: The pixel values are gray scale between 0 and 255)."
   ]
  },
  {
   "cell_type": "code",
   "execution_count": 10,
   "metadata": {},
   "outputs": [],
   "source": [
    "# normalize inputs\n",
    "\n",
    "X_train = X_train / 255\n",
    "X_test = X_test / 255"
   ]
  },
  {
   "cell_type": "markdown",
   "metadata": {},
   "source": [
    "# 3. Create the model\n",
    "Now we will create a CNN model with a double convolutional layer of the same size 3×3, max pooling layers and fully connected layers. The dropout layer is used to deactivate some of the neurons to reduce overfitting. Finally, the output layer has 10 neurons for the 10 classes. We will then compile the model with the ADAM optimizer."
   ]
  },
  {
   "cell_type": "code",
   "execution_count": 11,
   "metadata": {},
   "outputs": [],
   "source": [
    "# defining a cnn model\n",
    "\n",
    "def model():\n",
    "    num_classes = 10\n",
    "    model = Sequential()\n",
    "    model.add(Convolution2D(32,kernel_size=(3,3),activation='relu'))\n",
    "    model.add(Convolution2D(64,(3,3),activation='relu'))\n",
    "    model.add(MaxPooling2D(pool_size=(2, 2)))\n",
    "    model.add(Dropout(0.25))\n",
    "    model.add(Flatten())\n",
    "    model.add(Dense(256,activation='relu'))\n",
    "    model.add(Dropout(0.5))\n",
    "    model.add(Dense(num_classes,activation='softmax'))\n",
    "    model.compile(loss='categorical_crossentropy',optimizer='adam',metrics=['accuracy'])\n",
    "    return model\n",
    "\n",
    "# build the model\n",
    "\n",
    "model = model()"
   ]
  },
  {
   "cell_type": "markdown",
   "metadata": {},
   "source": [
    "# 4. Train the model\n",
    "The model.fit() function of Keras takes training data, validation data, epochs, and batch size to train the model. It takes some time to train the model depending upon your working environment (CPU or GPU). After completion, we will save the model in the file named as ‘model.h5’ for later use."
   ]
  },
  {
   "cell_type": "code",
   "execution_count": null,
   "metadata": {},
   "outputs": [
    {
     "name": "stdout",
     "output_type": "stream",
     "text": [
      "Epoch 1/10\n",
      "300/300 - 138s - loss: 0.2202 - accuracy: 0.9319 - val_loss: 0.0535 - val_accuracy: 0.9819\n",
      "Epoch 2/10\n",
      "300/300 - 132s - loss: 0.0691 - accuracy: 0.9789 - val_loss: 0.0369 - val_accuracy: 0.9880\n",
      "Epoch 3/10\n",
      "300/300 - 132s - loss: 0.0511 - accuracy: 0.9838 - val_loss: 0.0316 - val_accuracy: 0.9899\n",
      "Epoch 4/10\n",
      "300/300 - 145s - loss: 0.0398 - accuracy: 0.9875 - val_loss: 0.0287 - val_accuracy: 0.9897\n",
      "Epoch 5/10\n",
      "300/300 - 142s - loss: 0.0328 - accuracy: 0.9897 - val_loss: 0.0281 - val_accuracy: 0.9908\n",
      "Epoch 6/10\n",
      "300/300 - 162s - loss: 0.0283 - accuracy: 0.9915 - val_loss: 0.0266 - val_accuracy: 0.9924\n",
      "Epoch 7/10\n",
      "300/300 - 149s - loss: 0.0253 - accuracy: 0.9917 - val_loss: 0.0259 - val_accuracy: 0.9921\n",
      "Epoch 8/10\n"
     ]
    }
   ],
   "source": [
    "# fit the model\n",
    "\n",
    "model.fit(X_train, Y_train, validation_data=(X_test, Y_test),epochs=10,batch_size=200, verbose=2)\n",
    "print(\"=============================================\\n\")\n",
    "print(\"the model has successfully trained\")\n",
    "\n",
    "model.save('model.h5')\n",
    "\n",
    "print(\"==============================================\\n\")\n",
    "print(\"the model has successfully saved\")"
   ]
  },
  {
   "cell_type": "markdown",
   "metadata": {},
   "source": [
    "# 5. Evaluate the model\n",
    "To evaluate the performance of our model, we have 10,000 testing images of handwritten digits. The MNIST dataset is well balanced so we can get around 99% accuracy (i.e. CNN error < 1%)."
   ]
  },
  {
   "cell_type": "code",
   "execution_count": 3,
   "metadata": {},
   "outputs": [
    {
     "ename": "NameError",
     "evalue": "name 'model' is not defined",
     "output_type": "error",
     "traceback": [
      "\u001b[1;31m---------------------------------------------------------------------------\u001b[0m",
      "\u001b[1;31mNameError\u001b[0m                                 Traceback (most recent call last)",
      "\u001b[1;32m<ipython-input-3-5691af9533c9>\u001b[0m in \u001b[0;36m<module>\u001b[1;34m\u001b[0m\n\u001b[0;32m      1\u001b[0m \u001b[1;31m#Evaluate the model\u001b[0m\u001b[1;33m\u001b[0m\u001b[1;33m\u001b[0m\u001b[1;33m\u001b[0m\u001b[0m\n\u001b[0;32m      2\u001b[0m \u001b[1;33m\u001b[0m\u001b[0m\n\u001b[1;32m----> 3\u001b[1;33m \u001b[0mscores\u001b[0m \u001b[1;33m=\u001b[0m \u001b[0mmodel\u001b[0m\u001b[1;33m.\u001b[0m\u001b[0mevaluate\u001b[0m\u001b[1;33m(\u001b[0m\u001b[0mX_test\u001b[0m\u001b[1;33m,\u001b[0m\u001b[0mY_test\u001b[0m\u001b[1;33m,\u001b[0m \u001b[0mverbose\u001b[0m \u001b[1;33m=\u001b[0m \u001b[1;36m0\u001b[0m\u001b[1;33m)\u001b[0m\u001b[1;33m\u001b[0m\u001b[1;33m\u001b[0m\u001b[0m\n\u001b[0m\u001b[0;32m      4\u001b[0m \u001b[0mprint\u001b[0m\u001b[1;33m(\u001b[0m\u001b[1;34m'===============================================\\n'\u001b[0m\u001b[1;33m)\u001b[0m\u001b[1;33m\u001b[0m\u001b[1;33m\u001b[0m\u001b[0m\n\u001b[0;32m      5\u001b[0m \u001b[0mprint\u001b[0m\u001b[1;33m(\u001b[0m\u001b[1;34m\"CNN ERROR : %.2f%% \"\u001b[0m \u001b[1;33m%\u001b[0m \u001b[1;33m(\u001b[0m\u001b[1;36m100\u001b[0m\u001b[1;33m-\u001b[0m\u001b[0mscores\u001b[0m\u001b[1;33m[\u001b[0m\u001b[1;36m1\u001b[0m\u001b[1;33m]\u001b[0m\u001b[1;33m*\u001b[0m\u001b[1;36m100\u001b[0m\u001b[1;33m)\u001b[0m\u001b[1;33m)\u001b[0m\u001b[1;33m\u001b[0m\u001b[1;33m\u001b[0m\u001b[0m\n",
      "\u001b[1;31mNameError\u001b[0m: name 'model' is not defined"
     ]
    }
   ],
   "source": [
    "#Evaluate the model\n",
    "\n",
    "scores = model.evaluate(X_test,Y_test, verbose = 0)\n",
    "print('===============================================\\n')\n",
    "print(\"CNN ERROR : %.2f%% \" % (100-scores[1]*100))"
   ]
  },
  {
   "cell_type": "code",
   "execution_count": 1,
   "metadata": {},
   "outputs": [
    {
     "ename": "NameError",
     "evalue": "name 'model' is not defined",
     "output_type": "error",
     "traceback": [
      "\u001b[1;31m---------------------------------------------------------------------------\u001b[0m",
      "\u001b[1;31mNameError\u001b[0m                                 Traceback (most recent call last)",
      "\u001b[1;32m<ipython-input-1-5f15418b3570>\u001b[0m in \u001b[0;36m<module>\u001b[1;34m\u001b[0m\n\u001b[1;32m----> 1\u001b[1;33m \u001b[0mmodel\u001b[0m\u001b[1;33m.\u001b[0m\u001b[0msummary\u001b[0m\u001b[1;33m(\u001b[0m\u001b[1;33m)\u001b[0m\u001b[1;33m\u001b[0m\u001b[1;33m\u001b[0m\u001b[0m\n\u001b[0m",
      "\u001b[1;31mNameError\u001b[0m: name 'model' is not defined"
     ]
    }
   ],
   "source": [
    "model.summary()"
   ]
  },
  {
   "cell_type": "code",
   "execution_count": null,
   "metadata": {},
   "outputs": [],
   "source": []
  }
 ],
 "metadata": {
  "kernelspec": {
   "display_name": "Python 3",
   "language": "python",
   "name": "python3"
  },
  "language_info": {
   "codemirror_mode": {
    "name": "ipython",
    "version": 3
   },
   "file_extension": ".py",
   "mimetype": "text/x-python",
   "name": "python",
   "nbconvert_exporter": "python",
   "pygments_lexer": "ipython3",
   "version": "3.8.8"
  }
 },
 "nbformat": 4,
 "nbformat_minor": 4
}
